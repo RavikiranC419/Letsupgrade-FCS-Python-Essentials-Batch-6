{
 "cells": [
  {
   "cell_type": "code",
   "execution_count": 1,
   "metadata": {},
   "outputs": [
    {
     "name": "stdout",
     "output_type": "stream",
     "text": [
      "Helloworld\n"
     ]
    }
   ],
   "source": [
    "# \\  Continuation symbol\n",
    "print (\"Hello\\\n",
    "world\")"
   ]
  },
  {
   "cell_type": "code",
   "execution_count": 2,
   "metadata": {},
   "outputs": [
    {
     "name": "stdout",
     "output_type": "stream",
     "text": [
      "Hello\n",
      "World\n"
     ]
    }
   ],
   "source": [
    "# \\n new line creator\n",
    "print (\"Hello\\nWorld\")"
   ]
  },
  {
   "cell_type": "code",
   "execution_count": 3,
   "metadata": {},
   "outputs": [
    {
     "name": "stdout",
     "output_type": "stream",
     "text": [
      "My name is Ravi marks is 89.00 & age is 20\n",
      "My name is Ravi marks is 89 & age is 20\n"
     ]
    }
   ],
   "source": [
    "# Formatted o/p\n",
    "# %s =string\n",
    "\n",
    "# %f = float and .2 denotes that the float value to be round off to 2 decimal point.\n",
    "\n",
    "# %d = Integer\n",
    "\n",
    "name = \"Ravi\"\n",
    "marks = 89\n",
    "age = 20\n",
    "#Example 1\n",
    "print(\"My name is %s marks is %.2f & age is %d\"%(name,marks,age)) \n",
    "\n",
    "#Example 2\n",
    "print(f\"My name is {name} marks is {marks} & age is {age}\") "
   ]
  },
  {
   "cell_type": "code",
   "execution_count": 5,
   "metadata": {},
   "outputs": [
    {
     "name": "stdout",
     "output_type": "stream",
     "text": [
      "10 10 10\n"
     ]
    }
   ],
   "source": [
    "# Variables\n",
    "# Always use meaningfull name as a variable\n",
    "# variable can't be started with a number\n",
    "\n",
    "a = b = c = 10\n",
    "print(a,b,c)"
   ]
  },
  {
   "cell_type": "code",
   "execution_count": 6,
   "metadata": {},
   "outputs": [
    {
     "name": "stdout",
     "output_type": "stream",
     "text": [
      "15 5 2.0 50 100000 0 2\n"
     ]
    }
   ],
   "source": [
    "# Python Operators\n",
    "\n",
    "#Arthimatic operators\n",
    "a = 10\n",
    "b = 5\n",
    "c = a+b # + Addition operator\n",
    "d = a-b # - Sub Operator\n",
    "e = a/b # / Division Operator\n",
    "f = a*b # * Multipication operator\n",
    "g = a**b # ** Exponential Operator\n",
    "h = a%b # % Modulus Operator which yeilds Remainder of an eculidean divison\n",
    "i = a//b # // Floor Divison operator which yeilds Quotient of an eculidean divison\n",
    "print (c, d, e, f, g, h, i)"
   ]
  },
  {
   "cell_type": "code",
   "execution_count": 9,
   "metadata": {},
   "outputs": [
    {
     "name": "stdout",
     "output_type": "stream",
     "text": [
      "False True False True True False\n"
     ]
    }
   ],
   "source": [
    "#Comparison operators\n",
    "\n",
    "a = 10\n",
    "b = 20\n",
    "c = (a==b) #\"Equal to\" Returns true if Right hand side is equal to left hand side\n",
    "d = (a!=b) #\"Not Equal to\" Returns true if Right hand side is not equal to left hand side\n",
    "e = (a>b) #\"Greater than\" Returns true if Right hand side is greater than left hand side\n",
    "f = (a<b) #\"Lesser than\" Returns true if Right hand side is lesser than left hand side\n",
    "g = (a<=b) #\"Lesser than or equal to\" Returns true if Right hand side is lesser than left hand side\n",
    "h = (a>=b) #\"Greater than or equal to\" Returns true if Right hand side is greater than left hand side\n",
    "print (c, d, e, f, g, h)"
   ]
  },
  {
   "cell_type": "code",
   "execution_count": 15,
   "metadata": {},
   "outputs": [
    {
     "data": {
      "text/plain": [
       "10000000000.0"
      ]
     },
     "execution_count": 15,
     "metadata": {},
     "output_type": "execute_result"
    }
   ],
   "source": [
    "#Assignment operators\n",
    "\n",
    "a = 10\n",
    "b = 10\n",
    "a+=b\n",
    "a-=b\n",
    "a*=b\n",
    "a/=b\n",
    "a**=b"
   ]
  },
  {
   "cell_type": "code",
   "execution_count": 18,
   "metadata": {},
   "outputs": [
    {
     "data": {
      "text/plain": [
       "True"
      ]
     },
     "execution_count": 18,
     "metadata": {},
     "output_type": "execute_result"
    }
   ],
   "source": [
    "#Membership operators\n",
    "\n",
    "str = \"Hey There\"\n",
    "\"e\" in str"
   ]
  },
  {
   "cell_type": "code",
   "execution_count": 20,
   "metadata": {},
   "outputs": [
    {
     "data": {
      "text/plain": [
       "False"
      ]
     },
     "execution_count": 20,
     "metadata": {},
     "output_type": "execute_result"
    }
   ],
   "source": [
    "str = \"Hey There\"\n",
    "\"e\" not in str"
   ]
  },
  {
   "cell_type": "code",
   "execution_count": null,
   "metadata": {},
   "outputs": [],
   "source": [
    "#Identity Operators"
   ]
  },
  {
   "cell_type": "code",
   "execution_count": 21,
   "metadata": {},
   "outputs": [
    {
     "data": {
      "text/plain": [
       "True"
      ]
     },
     "execution_count": 21,
     "metadata": {},
     "output_type": "execute_result"
    }
   ],
   "source": [
    "a = 10\n",
    "b = 10\n",
    "a is b"
   ]
  },
  {
   "cell_type": "code",
   "execution_count": 22,
   "metadata": {},
   "outputs": [
    {
     "data": {
      "text/plain": [
       "False"
      ]
     },
     "execution_count": 22,
     "metadata": {},
     "output_type": "execute_result"
    }
   ],
   "source": [
    "a is not b"
   ]
  },
  {
   "cell_type": "code",
   "execution_count": 24,
   "metadata": {},
   "outputs": [
    {
     "data": {
      "text/plain": [
       "140713045828272"
      ]
     },
     "execution_count": 24,
     "metadata": {},
     "output_type": "execute_result"
    }
   ],
   "source": [
    "#ID Function used to find the Ram address\n",
    "id(a)"
   ]
  },
  {
   "cell_type": "code",
   "execution_count": 25,
   "metadata": {},
   "outputs": [
    {
     "data": {
      "text/plain": [
       "140713045828272"
      ]
     },
     "execution_count": 25,
     "metadata": {},
     "output_type": "execute_result"
    }
   ],
   "source": [
    "id (b)"
   ]
  }
 ],
 "metadata": {
  "kernelspec": {
   "display_name": "Python 3",
   "language": "python",
   "name": "python3"
  },
  "language_info": {
   "codemirror_mode": {
    "name": "ipython",
    "version": 3
   },
   "file_extension": ".py",
   "mimetype": "text/x-python",
   "name": "python",
   "nbconvert_exporter": "python",
   "pygments_lexer": "ipython3",
   "version": "3.7.6"
  }
 },
 "nbformat": 4,
 "nbformat_minor": 4
}
