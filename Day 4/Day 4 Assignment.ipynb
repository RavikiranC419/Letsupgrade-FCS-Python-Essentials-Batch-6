{
 "cells": [
  {
   "cell_type": "markdown",
   "metadata": {},
   "source": [
    "# Q1 : Find all occurances of substring in the given string"
   ]
  },
  {
   "cell_type": "code",
   "execution_count": 30,
   "metadata": {},
   "outputs": [
    {
     "name": "stdout",
     "output_type": "stream",
     "text": [
      "Index of the first \"we\" is 5\n",
      "Index of the middle \"we\" is 14\n",
      "Index of the last \"we\" is 25\n"
     ]
    }
   ],
   "source": [
    "str1 = \"what we think we become; we are python programmer\"\n",
    "x = str1.find(\"we\")\n",
    "y = str1.rfind(\"we\")\n",
    "z = str1.split(\";\")[0]\n",
    "a = z.rfind(\"we\")\n",
    "\n",
    "print (\"Index of the first \\\"we\\\" is\", x)\n",
    "print(\"Index of the middle \\\"we\\\" is\", a)\n",
    "print (\"Index of the last \\\"we\\\" is\", y)"
   ]
  },
  {
   "cell_type": "markdown",
   "metadata": {},
   "source": [
    "# Q2"
   ]
  },
  {
   "cell_type": "code",
   "execution_count": 33,
   "metadata": {},
   "outputs": [
    {
     "name": "stdout",
     "output_type": "stream",
     "text": [
      "True\n",
      "True\n"
     ]
    }
   ],
   "source": [
    "a = \"hello world\"\n",
    "b = \"HELLO WORLD\"\n",
    "print(a.islower())\n",
    "print(b.isupper())"
   ]
  }
 ],
 "metadata": {
  "kernelspec": {
   "display_name": "Python 3",
   "language": "python",
   "name": "python3"
  },
  "language_info": {
   "codemirror_mode": {
    "name": "ipython",
    "version": 3
   },
   "file_extension": ".py",
   "mimetype": "text/x-python",
   "name": "python",
   "nbconvert_exporter": "python",
   "pygments_lexer": "ipython3",
   "version": "3.7.6"
  }
 },
 "nbformat": 4,
 "nbformat_minor": 4
}
